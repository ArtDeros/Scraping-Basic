{
  "nbformat": 4,
  "nbformat_minor": 0,
  "metadata": {
    "colab": {
      "provenance": [],
      "authorship_tag": "ABX9TyOfb0zdPQ8QsOeNs3L5TQx6",
      "include_colab_link": true
    },
    "kernelspec": {
      "name": "python3",
      "display_name": "Python 3"
    },
    "language_info": {
      "name": "python"
    }
  },
  "cells": [
    {
      "cell_type": "markdown",
      "metadata": {
        "id": "view-in-github",
        "colab_type": "text"
      },
      "source": [
        "<a href=\"https://colab.research.google.com/github/ArtDeros/Scraping-Basic/blob/main/Scraping.ipynb\" target=\"_parent\"><img src=\"https://colab.research.google.com/assets/colab-badge.svg\" alt=\"Open In Colab\"/></a>"
      ]
    },
    {
      "cell_type": "markdown",
      "source": [
        "Se aplica web scraping basico"
      ],
      "metadata": {
        "id": "0fygMi0YgKid"
      }
    },
    {
      "cell_type": "code",
      "source": [
        "import requests\n",
        "from bs4 import BeautifulSoup\n",
        "\n",
        "# URL de la página que queremos scrapear\n",
        "url = \"https://techcrunch.com/\"\n",
        "\n",
        "# Hacer la solicitud HTTP a la página\n",
        "response = requests.get(url)\n",
        "\n",
        "# Verificar que la solicitud fue exitosa\n",
        "if response.status_code == 200:\n",
        "    # Parsear el contenido HTML con BeautifulSoup\n",
        "    soup = BeautifulSoup(response.text, 'html.parser')\n",
        "\n",
        "    # Encontrar todos los títulos de los artículos\n",
        "    articles = soup.find_all('h2', class_='post-block__title')\n",
        "\n",
        "    print(\"Títulos de artículos en TechCrunch:\")\n",
        "    for i, article in enumerate(articles, 1):\n",
        "        title = article.get_text(strip=True)  # Obtener el texto del título\n",
        "        print(f\"{i}. {title}\")\n",
        "else:\n",
        "    print(f\"Error al acceder a la página. Código de estado: {response.status_code}\")\n"
      ],
      "metadata": {
        "colab": {
          "base_uri": "https://localhost:8080/"
        },
        "id": "zLtXhnV9ZC9a",
        "outputId": "adf9aac9-c940-49e4-ce6c-7a39033919ea"
      },
      "execution_count": 10,
      "outputs": [
        {
          "output_type": "stream",
          "name": "stdout",
          "text": [
            "Títulos de artículos en TechCrunch:\n"
          ]
        }
      ]
    }
  ]
}